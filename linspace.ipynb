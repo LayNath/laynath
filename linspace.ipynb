{
 "cells": [
  {
   "cell_type": "code",
   "execution_count": 1,
   "metadata": {},
   "outputs": [],
   "source": [
    "import numpy as np\n"
   ]
  },
  {
   "cell_type": "code",
   "execution_count": 2,
   "metadata": {},
   "outputs": [
    {
     "data": {
      "text/plain": [
       "array([ 1,  2,  3,  4,  5,  6,  7,  8,  9, 10])"
      ]
     },
     "execution_count": 2,
     "metadata": {},
     "output_type": "execute_result"
    }
   ],
   "source": [
    "np.arange(1,11)"
   ]
  },
  {
   "cell_type": "code",
   "execution_count": 3,
   "metadata": {},
   "outputs": [
    {
     "data": {
      "text/plain": [
       "array([ 1,  4,  7, 10, 13, 16, 19])"
      ]
     },
     "execution_count": 3,
     "metadata": {},
     "output_type": "execute_result"
    }
   ],
   "source": [
    "np.arange(1,20,3)"
   ]
  },
  {
   "cell_type": "code",
   "execution_count": 5,
   "metadata": {},
   "outputs": [
    {
     "data": {
      "text/plain": [
       "array([ 1.        ,  1.47368421,  1.94736842,  2.42105263,  2.89473684,\n",
       "        3.36842105,  3.84210526,  4.31578947,  4.78947368,  5.26315789,\n",
       "        5.73684211,  6.21052632,  6.68421053,  7.15789474,  7.63157895,\n",
       "        8.10526316,  8.57894737,  9.05263158,  9.52631579, 10.        ])"
      ]
     },
     "execution_count": 5,
     "metadata": {},
     "output_type": "execute_result"
    }
   ],
   "source": [
    "np.linspace(1,10,20)"
   ]
  },
  {
   "cell_type": "code",
   "execution_count": 13,
   "metadata": {},
   "outputs": [
    {
     "data": {
      "text/plain": [
       "array([0.        , 0.06346652, 0.12693304, 0.19039955, 0.25386607,\n",
       "       0.31733259, 0.38079911, 0.44426563, 0.50773215, 0.57119866,\n",
       "       0.63466518, 0.6981317 , 0.76159822, 0.82506474, 0.88853126,\n",
       "       0.95199777, 1.01546429, 1.07893081, 1.14239733, 1.20586385,\n",
       "       1.26933037, 1.33279688, 1.3962634 , 1.45972992, 1.52319644,\n",
       "       1.58666296, 1.65012947, 1.71359599, 1.77706251, 1.84052903,\n",
       "       1.90399555, 1.96746207, 2.03092858, 2.0943951 , 2.15786162,\n",
       "       2.22132814, 2.28479466, 2.34826118, 2.41172769, 2.47519421,\n",
       "       2.53866073, 2.60212725, 2.66559377, 2.72906028, 2.7925268 ,\n",
       "       2.85599332, 2.91945984, 2.98292636, 3.04639288, 3.10985939,\n",
       "       3.17332591, 3.23679243, 3.30025895, 3.36372547, 3.42719199,\n",
       "       3.4906585 , 3.55412502, 3.61759154, 3.68105806, 3.74452458,\n",
       "       3.8079911 , 3.87145761, 3.93492413, 3.99839065, 4.06185717,\n",
       "       4.12532369, 4.1887902 , 4.25225672, 4.31572324, 4.37918976,\n",
       "       4.44265628, 4.5061228 , 4.56958931, 4.63305583, 4.69652235,\n",
       "       4.75998887, 4.82345539, 4.88692191, 4.95038842, 5.01385494,\n",
       "       5.07732146, 5.14078798, 5.2042545 , 5.26772102, 5.33118753,\n",
       "       5.39465405, 5.45812057, 5.52158709, 5.58505361, 5.64852012,\n",
       "       5.71198664, 5.77545316, 5.83891968, 5.9023862 , 5.96585272,\n",
       "       6.02931923, 6.09278575, 6.15625227, 6.21971879, 6.28318531])"
      ]
     },
     "execution_count": 13,
     "metadata": {},
     "output_type": "execute_result"
    }
   ],
   "source": [
    "x=np.linspace(0,2*np.pi,100)\n",
    "x"
   ]
  },
  {
   "cell_type": "code",
   "execution_count": 14,
   "metadata": {},
   "outputs": [
    {
     "data": {
      "text/plain": [
       "array([ 0.00000000e+00,  6.34239197e-02,  1.26592454e-01,  1.89251244e-01,\n",
       "        2.51147987e-01,  3.12033446e-01,  3.71662456e-01,  4.29794912e-01,\n",
       "        4.86196736e-01,  5.40640817e-01,  5.92907929e-01,  6.42787610e-01,\n",
       "        6.90079011e-01,  7.34591709e-01,  7.76146464e-01,  8.14575952e-01,\n",
       "        8.49725430e-01,  8.81453363e-01,  9.09631995e-01,  9.34147860e-01,\n",
       "        9.54902241e-01,  9.71811568e-01,  9.84807753e-01,  9.93838464e-01,\n",
       "        9.98867339e-01,  9.99874128e-01,  9.96854776e-01,  9.89821442e-01,\n",
       "        9.78802446e-01,  9.63842159e-01,  9.45000819e-01,  9.22354294e-01,\n",
       "        8.95993774e-01,  8.66025404e-01,  8.32569855e-01,  7.95761841e-01,\n",
       "        7.55749574e-01,  7.12694171e-01,  6.66769001e-01,  6.18158986e-01,\n",
       "        5.67059864e-01,  5.13677392e-01,  4.58226522e-01,  4.00930535e-01,\n",
       "        3.42020143e-01,  2.81732557e-01,  2.20310533e-01,  1.58001396e-01,\n",
       "        9.50560433e-02,  3.17279335e-02, -3.17279335e-02, -9.50560433e-02,\n",
       "       -1.58001396e-01, -2.20310533e-01, -2.81732557e-01, -3.42020143e-01,\n",
       "       -4.00930535e-01, -4.58226522e-01, -5.13677392e-01, -5.67059864e-01,\n",
       "       -6.18158986e-01, -6.66769001e-01, -7.12694171e-01, -7.55749574e-01,\n",
       "       -7.95761841e-01, -8.32569855e-01, -8.66025404e-01, -8.95993774e-01,\n",
       "       -9.22354294e-01, -9.45000819e-01, -9.63842159e-01, -9.78802446e-01,\n",
       "       -9.89821442e-01, -9.96854776e-01, -9.99874128e-01, -9.98867339e-01,\n",
       "       -9.93838464e-01, -9.84807753e-01, -9.71811568e-01, -9.54902241e-01,\n",
       "       -9.34147860e-01, -9.09631995e-01, -8.81453363e-01, -8.49725430e-01,\n",
       "       -8.14575952e-01, -7.76146464e-01, -7.34591709e-01, -6.90079011e-01,\n",
       "       -6.42787610e-01, -5.92907929e-01, -5.40640817e-01, -4.86196736e-01,\n",
       "       -4.29794912e-01, -3.71662456e-01, -3.12033446e-01, -2.51147987e-01,\n",
       "       -1.89251244e-01, -1.26592454e-01, -6.34239197e-02, -2.44929360e-16])"
      ]
     },
     "execution_count": 14,
     "metadata": {},
     "output_type": "execute_result"
    }
   ],
   "source": [
    "y=np.sin(x)\n",
    "y"
   ]
  },
  {
   "cell_type": "code",
   "execution_count": 10,
   "metadata": {},
   "outputs": [],
   "source": [
    "import matplotlib.pyplot as plt"
   ]
  },
  {
   "cell_type": "code",
   "execution_count": 11,
   "metadata": {},
   "outputs": [
    {
     "data": {
      "text/plain": [
       "[<matplotlib.lines.Line2D at 0x7f9ae3a35208>]"
      ]
     },
     "execution_count": 11,
     "metadata": {},
     "output_type": "execute_result"
    },
    {
     "data": {
      "image/png": "[encoded data removed]",
      "text/plain": [
       "<Figure size 432x288 with 1 Axes>"
      ]
     },
     "metadata": {
      "needs_background": "light"
     },
     "output_type": "display_data"
    }
   ],
   "source": [
    "plt.plot(y,x)"
   ]
  },
  {
   "cell_type": "code",
   "execution_count": 16,
   "metadata": {},
   "outputs": [
    {
     "data": {
      "text/plain": [
       "<matplotlib.collections.PathCollection at 0x7f9ae31d7ba8>"
      ]
     },
     "execution_count": 16,
     "metadata": {},
     "output_type": "execute_result"
    },
    {
     "data": {
      "image/png": "[encoded data removed]",
      "text/plain": [
       "<Figure size 432x288 with 1 Axes>"
      ]
     },
     "metadata": {
      "needs_background": "light"
     },
     "output_type": "display_data"
    }
   ],
   "source": [
    "plt.scatter(y*x,x)"
   ]
  },
  {
   "cell_type": "code",
   "execution_count": 18,
   "metadata": {},
   "outputs": [],
   "source": [
    "%config inlineBackend.figure_format=\"retina\""
   ]
  },
  {
   "cell_type": "code",
   "execution_count": 19,
   "metadata": {},
   "outputs": [
    {
     "data": {
      "text/plain": [
       "<matplotlib.collections.PathCollection at 0x7f9ae328b4e0>"
      ]
     },
     "execution_count": 19,
     "metadata": {},
     "output_type": "execute_result"
    },
    {
     "data": {
      "image/png": "[encoded data removed]",
      "text/plain": [
       "<Figure size 432x288 with 1 Axes>"
      ]
     },
     "metadata": {
      "needs_background": "light"
     },
     "output_type": "display_data"
    }
   ],
   "source": [
    "plt.scatter(y*x,x)"
   ]
  },
  {
   "cell_type": "code",
   "execution_count": null,
   "metadata": {},
   "outputs": [],
   "source": []
  }
 ],
 "metadata": {
  "kernelspec": {
   "display_name": "Python 3",
   "language": "python",
   "name": "python3"
  },
  "language_info": {
   "codemirror_mode": {
    "name": "ipython",
    "version": 3
   },
   "file_extension": ".py",
   "mimetype": "text/x-python",
   "name": "python",
   "nbconvert_exporter": "python",
   "pygments_lexer": "ipython3",
   "version": "3.7.2"
  }
 },
 "nbformat": 4,
 "nbformat_minor": 2
}
