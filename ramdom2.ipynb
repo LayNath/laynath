{
 "cells": [
  {
   "cell_type": "code",
   "execution_count": 1,
   "metadata": {},
   "outputs": [],
   "source": [
    "import numpy as np\n",
    "import matplotlib.pyplot as plt"
   ]
  },
  {
   "cell_type": "code",
   "execution_count": 11,
   "metadata": {},
   "outputs": [],
   "source": [
    "like=np.array([\"C++\",\"DB\",\"CA\",\"EN\",\"DC\",\"DS\"])\n",
    "a=np.random.choice(like,size=100,replace=True)"
   ]
  },
  {
   "cell_type": "code",
   "execution_count": 12,
   "metadata": {},
   "outputs": [
    {
     "name": "stdout",
     "output_type": "stream",
     "text": [
      "['C++' 'CA' 'DB' 'DC' 'DS' 'EN']\n",
      "[15 18  9 22 17 19]\n"
     ]
    },
    {
     "data": {
      "text/plain": [
       "<BarContainer object of 6 artists>"
      ]
     },
     "execution_count": 12,
     "metadata": {},
     "output_type": "execute_result"
    },
    {
     "data": {
      "image/png": "[encoded data removed]",
      "text/plain": [
       "<Figure size 432x288 with 1 Axes>"
      ]
     },
     "metadata": {
      "needs_background": "light"
     },
     "output_type": "display_data"
    }
   ],
   "source": [
    "u,counts=np.unique(a,return_counts=True)\n",
    "print(u)\n",
    "print(counts)\n",
    "plt.bar(u,counts)"
   ]
  },
  {
   "cell_type": "code",
   "execution_count": 24,
   "metadata": {},
   "outputs": [
    {
     "data": {
      "text/plain": [
       "array(['Russia', 'Brazil', 'Iran', 'Japan', 'Mexico', 'Belgium',\n",
       "       'South Korea', 'Saudi Arabia', 'Germany', 'England', 'Spain',\n",
       "       'Nigeria', 'Costa Rica', 'Poland', 'Egypt', 'Iceland', 'Serbia',\n",
       "       'Portugal', 'France', 'Uruguay', 'Argentina', 'Colombia', 'Panama',\n",
       "       'Senegal', 'Morocco', 'Tunisia', 'Switzerland', 'Croatia',\n",
       "       'Sweden', 'Denmark', 'Australia', 'Peru'], dtype='<U12')"
      ]
     },
     "execution_count": 24,
     "metadata": {},
     "output_type": "execute_result"
    }
   ],
   "source": [
    "f=np.loadtxt(\"worldcup\",dtype=\"U\",delimiter=\"\\n\")\n",
    "f"
   ]
  },
  {
   "cell_type": "code",
   "execution_count": 25,
   "metadata": {},
   "outputs": [
    {
     "data": {
      "text/plain": [
       "array(['Sweden', 'Japan', 'Saudi Arabia', 'South Korea', 'Argentina',\n",
       "       'Peru', 'Germany', 'Brazil', 'Serbia', 'Poland', 'Russia',\n",
       "       'France', 'Spain', 'Iran', 'Uruguay', 'Belgium', 'Panama',\n",
       "       'England', 'Morocco', 'Switzerland', 'Iceland', 'Colombia',\n",
       "       'Senegal', 'Egypt', 'Portugal', 'Croatia', 'Mexico', 'Tunisia',\n",
       "       'Costa Rica', 'Denmark', 'Australia', 'Nigeria'], dtype='<U12')"
      ]
     },
     "execution_count": 25,
     "metadata": {},
     "output_type": "execute_result"
    }
   ],
   "source": [
    "np.random.shuffle(f)\n",
    "f"
   ]
  },
  {
   "cell_type": "code",
   "execution_count": 33,
   "metadata": {},
   "outputs": [
    {
     "data": {
      "text/plain": [
       "[array(['Sweden', 'Japan', 'Saudi Arabia', 'South Korea'], dtype='<U12'),\n",
       " array(['Argentina', 'Peru', 'Germany', 'Brazil'], dtype='<U12'),\n",
       " array(['Serbia', 'Poland', 'Russia', 'France'], dtype='<U12'),\n",
       " array(['Spain', 'Iran', 'Uruguay', 'Belgium'], dtype='<U12'),\n",
       " array(['Panama', 'England', 'Morocco', 'Switzerland'], dtype='<U12'),\n",
       " array(['Iceland', 'Colombia', 'Senegal', 'Egypt'], dtype='<U12'),\n",
       " array(['Portugal', 'Croatia', 'Mexico', 'Tunisia'], dtype='<U12'),\n",
       " array(['Costa Rica', 'Denmark', 'Australia', 'Nigeria'], dtype='<U12')]"
      ]
     },
     "execution_count": 33,
     "metadata": {},
     "output_type": "execute_result"
    }
   ],
   "source": [
    "A=np.hsplit(f,8)\n",
    "A"
   ]
  },
  {
   "cell_type": "code",
   "execution_count": 52,
   "metadata": {},
   "outputs": [
    {
     "name": "stdout",
     "output_type": "stream",
     "text": [
      "Group A : ['Sweden' 'Japan' 'Saudi Arabia' 'South Korea']\n",
      "Group B : ['Argentina' 'Peru' 'Germany' 'Brazil']\n",
      "Group C : ['Serbia' 'Poland' 'Russia' 'France']\n",
      "Group D : ['Spain' 'Iran' 'Uruguay' 'Belgium']\n",
      "Group E : ['Panama' 'England' 'Morocco' 'Switzerland']\n",
      "Group F : ['Iceland' 'Colombia' 'Senegal' 'Egypt']\n",
      "Group G : ['Portugal' 'Croatia' 'Mexico' 'Tunisia']\n",
      "Group H : ['Costa Rica' 'Denmark' 'Australia' 'Nigeria']\n"
     ]
    }
   ],
   "source": [
    "for i,v in enumerate(A):\n",
    "    print(\"Group {} : {}\".format((chr(65+i)),v))"
   ]
  },
  {
   "cell_type": "code",
   "execution_count": 54,
   "metadata": {},
   "outputs": [
    {
     "name": "stdout",
     "output_type": "stream",
     "text": [
      "Group A : ['Sweden' 'Japan']\n",
      "Group B : ['Germany' 'Argentina']\n",
      "Group C : ['France' 'Serbia']\n",
      "Group D : ['Iran' 'Spain']\n",
      "Group E : ['Morocco' 'Panama']\n",
      "Group F : ['Egypt' 'Senegal']\n",
      "Group G : ['Croatia' 'Tunisia']\n",
      "Group H : ['Costa Rica' 'Denmark']\n"
     ]
    }
   ],
   "source": [
    "for i,v in enumerate(A):\n",
    "    print(f\"Group {chr(65+i)} : {np.random.choice(v,size=2,replace=False)}\")"
   ]
  },
  {
   "cell_type": "code",
   "execution_count": null,
   "metadata": {},
   "outputs": [],
   "source": []
  }
 ],
 "metadata": {
  "kernelspec": {
   "display_name": "Python 3",
   "language": "python",
   "name": "python3"
  },
  "language_info": {
   "codemirror_mode": {
    "name": "ipython",
    "version": 3
   },
   "file_extension": ".py",
   "mimetype": "text/x-python",
   "name": "python",
   "nbconvert_exporter": "python",
   "pygments_lexer": "ipython3",
   "version": "3.7.1"
  }
 },
 "nbformat": 4,
 "nbformat_minor": 2
}
