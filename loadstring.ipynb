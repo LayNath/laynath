{
 "cells": [
  {
   "cell_type": "code",
   "execution_count": 1,
   "metadata": {},
   "outputs": [],
   "source": [
    "import numpy as np"
   ]
  },
  {
   "cell_type": "code",
   "execution_count": 17,
   "metadata": {},
   "outputs": [],
   "source": [
    "f=np.loadtxt(\"example2\",delimiter=\",\",dtype=\"U\")"
   ]
  },
  {
   "cell_type": "code",
   "execution_count": 18,
   "metadata": {},
   "outputs": [
    {
     "name": "stdout",
     "output_type": "stream",
     "text": [
      " 1 :Apex Legends\n",
      " 2 :Slay the Spire\n",
      " 3 :Resident Evil 2\n",
      " 4 :Rainbow Six Siege\n",
      " 5 :Wargroove\n",
      " 6 :Fortnite Battle Royale\n",
      " 7 :Into the Breach\n",
      " 8 :CS:GO\n",
      " 9 :Warframe\n",
      "10 :Dusk\n",
      "11 :Battlefield 5\n",
      "12 :Hitman 2\n",
      "13 :PUBG\n",
      "14 :Return of the Obra Dinn\n"
     ]
    }
   ],
   "source": [
    "for i,v in enumerate(f,start=1):\n",
    "    print(\"{:2} :{}\".format(i,v))"
   ]
  },
  {
   "cell_type": "code",
   "execution_count": 21,
   "metadata": {},
   "outputs": [],
   "source": [
    "s=np.loadtxt(\"example3\",dtype=\"U\",delimiter=\",\",skiprows=1)\n"
   ]
  },
  {
   "cell_type": "code",
   "execution_count": 22,
   "metadata": {},
   "outputs": [
    {
     "name": "stdout",
     "output_type": "stream",
     "text": [
      " 0 :['1' '\"DDU-DU DDU-DU\"' 'BLACKPINK' '26281'\n",
      " 'https://open.spotify.com/track/7b8YOVV5quZcSKEijDgyWB']\n",
      " 1 :['2' '\"บอกตัวเอง (feat. โป่ง หินเหล็กไฟ)\"' '\"Room 39\"' '15788'\n",
      " 'https://open.spotify.com/track/3WQe3r4R1lnJs75ty9UYDF']\n",
      " 2 :['3' '\"Girls Like You (feat. Cardi B)\"' '\"Maroon 5\"' '15299'\n",
      " 'https://open.spotify.com/track/7fa9MBXhVfQ8P8Df9OEbD8']\n",
      " 3 :['4' 'ภาพจำ' '\"Pop Pongkool\"' '15045'\n",
      " 'https://open.spotify.com/track/4YRpjJaJpiI36HM36Dn5lS']\n",
      " 4 :['5' '\"Forever Young\"' 'BLACKPINK' '14677'\n",
      " 'https://open.spotify.com/track/2naEVOadudtXHwtZNfjMDM']\n",
      " 5 :['6' 'นอนได้แล้ว' '\"Fukking Hero\"' '13502'\n",
      " 'https://open.spotify.com/track/5JhLoyD2idGlKXwD9nmYuB']\n",
      " 6 :['7' 'หมอกร้าย' 'Lipta' '13320'\n",
      " 'https://open.spotify.com/track/0EYgFMIXhjcFgX6xe2NY9v']\n",
      " 7 :['8' 'ถ้าเธอต้องเลือก' 'Illslick' '12518'\n",
      " 'https://open.spotify.com/track/5Of65kRDivh4UHG3SG5Iad']\n",
      " 8 :['9' '\"Good Morning Teacher\"' '\"Atom Chanakan\"' '11763'\n",
      " 'https://open.spotify.com/track/4AsE3bvoh6yuZls617lj4Z']\n",
      " 9 :['10' '\"Back To You\"' '\"Selena Gomez\"' '11563'\n",
      " 'https://open.spotify.com/track/514rhnksEwHUh6LxXsQ4Y9']\n",
      "10 :['11' 'คนที่ไม่ใช่' 'O-Pavee' '11121'\n",
      " 'https://open.spotify.com/track/76rs0Apd4Ct5LwJm8pB6r1']\n",
      "11 :['12' 'Really' 'BLACKPINK' '10695'\n",
      " 'https://open.spotify.com/track/2r5oD7twaQTsv5KoRS6v16']\n",
      "12 :['13' 'กำลังจะ' 'Illslick' '10283'\n",
      " 'https://open.spotify.com/track/18kwPdB3Bx8n9Mk4YsO6LT']\n",
      "13 :['14' 'ถ้าฉันหายไป(Skyline)' '\"Earth Patravee\"' '10128'\n",
      " 'https://open.spotify.com/track/0goff2JabkZTEq1yKeyoM8']\n",
      "14 :['15' '\"Bed (feat. Ariana Grande)\"' '\"Nicki Minaj\"' '10094'\n",
      " 'https://open.spotify.com/track/1ZEm9cJC05rawV2tptNfTS']\n",
      "15 :['16' '\"Day 1 ◑\"' 'HONNE' '9352'\n",
      " 'https://open.spotify.com/track/7AWZvcyaSBxRzaBJcHf9XL']\n",
      "16 :['17' '2002' 'Anne-Marie' '9049'\n",
      " 'https://open.spotify.com/track/6SFStUDQZNaGPKWOx9ZiJB']\n",
      "17 :['18' '\"Better Now\"' '\"Post Malone\"' '9037'\n",
      " 'https://open.spotify.com/track/7dt6x5M1jzdTEt8oCbisTK']\n",
      "18 :['19' '\"Ocean (feat. Khalid)\"' '\"Martin Garrix\"' '9027'\n",
      " 'https://open.spotify.com/track/3nc420PXjTdBV5TN0gCFkS']\n"
     ]
    }
   ],
   "source": [
    "for i,v in enumerate(s):\n",
    "    print(\"{:2} :{}\".format(i,v))"
   ]
  },
  {
   "cell_type": "code",
   "execution_count": null,
   "metadata": {},
   "outputs": [],
   "source": []
  }
 ],
 "metadata": {
  "kernelspec": {
   "display_name": "Python 3",
   "language": "python",
   "name": "python3"
  },
  "language_info": {
   "codemirror_mode": {
    "name": "ipython",
    "version": 3
   },
   "file_extension": ".py",
   "mimetype": "text/x-python",
   "name": "python",
   "nbconvert_exporter": "python",
   "pygments_lexer": "ipython3",
   "version": "3.7.1"
  }
 },
 "nbformat": 4,
 "nbformat_minor": 2
}
